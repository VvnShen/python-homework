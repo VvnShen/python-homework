{
 "cells": [
  {
   "cell_type": "code",
   "execution_count": 1,
   "id": "6bb87fc3-a629-42a5-8e59-1157ed5df5ed",
   "metadata": {},
   "outputs": [],
   "source": [
    "# import libraries and read data frame\n",
    "import pandas as pd\n",
    "from pathlib import Path\n",
    "import csv\n",
    "\n",
    "budget_data = pd.read_csv(\"budget_data.csv\")"
   ]
  },
  {
   "cell_type": "code",
   "execution_count": 2,
   "id": "25ae38d3-6d7c-48cd-89f6-1e87f3c755a3",
   "metadata": {},
   "outputs": [
    {
     "data": {
      "text/plain": [
       "Date             0\n",
       "Profit/Losses    0\n",
       "dtype: int64"
      ]
     },
     "execution_count": 2,
     "metadata": {},
     "output_type": "execute_result"
    }
   ],
   "source": [
    "#check if any null values\n",
    "budget_data.isnull().sum()"
   ]
  },
  {
   "cell_type": "code",
   "execution_count": 3,
   "id": "1dfcace5-3415-4dd7-9cb4-485781c6cec9",
   "metadata": {},
   "outputs": [],
   "source": [
    "#The total number of months included in the dataset\n",
    "total_months = budget_data['Date'].count()"
   ]
  },
  {
   "cell_type": "code",
   "execution_count": 4,
   "id": "d63a3142-a359-4d0b-8740-dba98646f3a9",
   "metadata": {},
   "outputs": [],
   "source": [
    "#The net total amount of Profit/Losses over the entire period.\n",
    "net_total_pnl = budget_data['Profit/Losses'].sum()"
   ]
  },
  {
   "cell_type": "code",
   "execution_count": 5,
   "id": "7081d15e-7b5d-4878-bf4d-02997e378067",
   "metadata": {},
   "outputs": [],
   "source": [
    "# change date to index\n",
    "budget_data.set_index(pd.to_datetime(budget_data['Date'],infer_datetime_format=True), inplace=True)"
   ]
  },
  {
   "cell_type": "code",
   "execution_count": 6,
   "id": "629079a6-dc7e-43b1-abbd-905c370051b3",
   "metadata": {},
   "outputs": [],
   "source": [
    "#drop the date column\n",
    "budget_data.drop(columns=['Date'], inplace=True)"
   ]
  },
  {
   "cell_type": "code",
   "execution_count": 11,
   "id": "f4d92222-d3a2-49d6-ab8e-7d9e453ae9e3",
   "metadata": {},
   "outputs": [],
   "source": [
    "#The average of the changes in Profit/Losses over the entire period\n",
    "average_pnl_change = (budget_data - budget_data.shift(1)).mean().round(2)"
   ]
  },
  {
   "cell_type": "code",
   "execution_count": 7,
   "id": "64beb337-f201-469c-a400-2e9c30e9493c",
   "metadata": {},
   "outputs": [],
   "source": [
    "#The greatest increase in profits (date and amount) over the entire period.\n",
    "budget_data['pnl_change']=(budget_data - budget_data.shift(1))   "
   ]
  },
  {
   "cell_type": "code",
   "execution_count": 8,
   "id": "2bfc9fb3-1b14-4f0a-ae1a-061f0397362a",
   "metadata": {},
   "outputs": [],
   "source": [
    "minimum = budget_data['pnl_change'].min()\n",
    "maximum = budget_data['pnl_change'].max()"
   ]
  },
  {
   "cell_type": "code",
   "execution_count": 9,
   "id": "53186f07-9733-423b-886a-fdef0d57298d",
   "metadata": {},
   "outputs": [],
   "source": [
    "minimum_line = budget_data.loc[budget_data['pnl_change'] == minimum ]\n",
    "maximum_line = budget_data.loc[budget_data['pnl_change'] == maximum ]"
   ]
  },
  {
   "cell_type": "code",
   "execution_count": 12,
   "id": "d38a4a4c-bfba-4579-9d6d-5ed2d376f490",
   "metadata": {},
   "outputs": [
    {
     "name": "stdout",
     "output_type": "stream",
     "text": [
      "Financial Analysis \n",
      "-----------------------\n",
      "Total Months: 86\n",
      "Total: $38382578\n",
      "Average  Change: $-2315.12\n",
      "Greatest Increase in Profits: \n",
      "             Profit/Losses  pnl_change\n",
      "Date                                 \n",
      "2012-02-01        1170593   1926159.0\n",
      "\n",
      "Greatest Decrease in Profits: \n",
      "             Profit/Losses  pnl_change\n",
      "Date                                 \n",
      "2013-09-01       -1196225  -2196167.0\n"
     ]
    }
   ],
   "source": [
    "# print the final result\n",
    "print (\"Financial Analysis \\n-----------------------\")\n",
    "print (f\"Total Months: {total_months}\")\n",
    "print (f\"Total: ${net_total_pnl}\")\n",
    "print (f\"Average  Change: ${average_pnl_change['Profit/Losses']}\")\n",
    "print (f\"Greatest Increase in Profits: \\n {maximum_line}\\n\")\n",
    "print (f\"Greatest Decrease in Profits: \\n {minimum_line}\")"
   ]
  }
 ],
 "metadata": {
  "kernelspec": {
   "display_name": "Python 3",
   "language": "python",
   "name": "python3"
  },
  "language_info": {
   "codemirror_mode": {
    "name": "ipython",
    "version": 3
   },
   "file_extension": ".py",
   "mimetype": "text/x-python",
   "name": "python",
   "nbconvert_exporter": "python",
   "pygments_lexer": "ipython3",
   "version": "3.8.8"
  }
 },
 "nbformat": 4,
 "nbformat_minor": 5
}
